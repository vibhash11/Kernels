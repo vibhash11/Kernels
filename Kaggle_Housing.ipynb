{
 "cells": [
  {
   "cell_type": "markdown",
   "metadata": {},
   "source": [
    "## Kaggle Housing Prices\n",
    "https://www.kaggle.com/c/house-prices-advanced-regression-techniques"
   ]
  },
  {
   "cell_type": "code",
   "execution_count": 1,
   "metadata": {
    "collapsed": true
   },
   "outputs": [],
   "source": [
    "#Loading libraries \n",
    "import numpy as np \n",
    "import pandas as pd\n",
    "import matplotlib.pyplot as plt\n",
    "%matplotlib inline\n",
    "plt.rcParams['figure.figsize'] = (10.0, 8.0)\n",
    "import seaborn as sns\n",
    "from scipy import stats\n",
    "from scipy.stats import norm"
   ]
  },
  {
   "cell_type": "code",
   "execution_count": 2,
   "metadata": {
    "collapsed": true
   },
   "outputs": [],
   "source": [
    "train = pd.read_csv(\"train.csv\")\n",
    "test = pd.read_csv(\"test.csv\")"
   ]
  },
  {
   "cell_type": "code",
   "execution_count": 3,
   "metadata": {},
   "outputs": [
    {
     "data": {
      "text/html": [
       "<div>\n",
       "<style>\n",
       "    .dataframe thead tr:only-child th {\n",
       "        text-align: right;\n",
       "    }\n",
       "\n",
       "    .dataframe thead th {\n",
       "        text-align: left;\n",
       "    }\n",
       "\n",
       "    .dataframe tbody tr th {\n",
       "        vertical-align: top;\n",
       "    }\n",
       "</style>\n",
       "<table border=\"1\" class=\"dataframe\">\n",
       "  <thead>\n",
       "    <tr style=\"text-align: right;\">\n",
       "      <th></th>\n",
       "      <th>Id</th>\n",
       "      <th>MSSubClass</th>\n",
       "      <th>MSZoning</th>\n",
       "      <th>LotFrontage</th>\n",
       "      <th>LotArea</th>\n",
       "      <th>Street</th>\n",
       "      <th>Alley</th>\n",
       "      <th>LotShape</th>\n",
       "      <th>LandContour</th>\n",
       "      <th>Utilities</th>\n",
       "      <th>...</th>\n",
       "      <th>PoolArea</th>\n",
       "      <th>PoolQC</th>\n",
       "      <th>Fence</th>\n",
       "      <th>MiscFeature</th>\n",
       "      <th>MiscVal</th>\n",
       "      <th>MoSold</th>\n",
       "      <th>YrSold</th>\n",
       "      <th>SaleType</th>\n",
       "      <th>SaleCondition</th>\n",
       "      <th>SalePrice</th>\n",
       "    </tr>\n",
       "  </thead>\n",
       "  <tbody>\n",
       "    <tr>\n",
       "      <th>0</th>\n",
       "      <td>1</td>\n",
       "      <td>60</td>\n",
       "      <td>RL</td>\n",
       "      <td>65.0</td>\n",
       "      <td>8450</td>\n",
       "      <td>Pave</td>\n",
       "      <td>NaN</td>\n",
       "      <td>Reg</td>\n",
       "      <td>Lvl</td>\n",
       "      <td>AllPub</td>\n",
       "      <td>...</td>\n",
       "      <td>0</td>\n",
       "      <td>NaN</td>\n",
       "      <td>NaN</td>\n",
       "      <td>NaN</td>\n",
       "      <td>0</td>\n",
       "      <td>2</td>\n",
       "      <td>2008</td>\n",
       "      <td>WD</td>\n",
       "      <td>Normal</td>\n",
       "      <td>208500</td>\n",
       "    </tr>\n",
       "    <tr>\n",
       "      <th>1</th>\n",
       "      <td>2</td>\n",
       "      <td>20</td>\n",
       "      <td>RL</td>\n",
       "      <td>80.0</td>\n",
       "      <td>9600</td>\n",
       "      <td>Pave</td>\n",
       "      <td>NaN</td>\n",
       "      <td>Reg</td>\n",
       "      <td>Lvl</td>\n",
       "      <td>AllPub</td>\n",
       "      <td>...</td>\n",
       "      <td>0</td>\n",
       "      <td>NaN</td>\n",
       "      <td>NaN</td>\n",
       "      <td>NaN</td>\n",
       "      <td>0</td>\n",
       "      <td>5</td>\n",
       "      <td>2007</td>\n",
       "      <td>WD</td>\n",
       "      <td>Normal</td>\n",
       "      <td>181500</td>\n",
       "    </tr>\n",
       "    <tr>\n",
       "      <th>2</th>\n",
       "      <td>3</td>\n",
       "      <td>60</td>\n",
       "      <td>RL</td>\n",
       "      <td>68.0</td>\n",
       "      <td>11250</td>\n",
       "      <td>Pave</td>\n",
       "      <td>NaN</td>\n",
       "      <td>IR1</td>\n",
       "      <td>Lvl</td>\n",
       "      <td>AllPub</td>\n",
       "      <td>...</td>\n",
       "      <td>0</td>\n",
       "      <td>NaN</td>\n",
       "      <td>NaN</td>\n",
       "      <td>NaN</td>\n",
       "      <td>0</td>\n",
       "      <td>9</td>\n",
       "      <td>2008</td>\n",
       "      <td>WD</td>\n",
       "      <td>Normal</td>\n",
       "      <td>223500</td>\n",
       "    </tr>\n",
       "    <tr>\n",
       "      <th>3</th>\n",
       "      <td>4</td>\n",
       "      <td>70</td>\n",
       "      <td>RL</td>\n",
       "      <td>60.0</td>\n",
       "      <td>9550</td>\n",
       "      <td>Pave</td>\n",
       "      <td>NaN</td>\n",
       "      <td>IR1</td>\n",
       "      <td>Lvl</td>\n",
       "      <td>AllPub</td>\n",
       "      <td>...</td>\n",
       "      <td>0</td>\n",
       "      <td>NaN</td>\n",
       "      <td>NaN</td>\n",
       "      <td>NaN</td>\n",
       "      <td>0</td>\n",
       "      <td>2</td>\n",
       "      <td>2006</td>\n",
       "      <td>WD</td>\n",
       "      <td>Abnorml</td>\n",
       "      <td>140000</td>\n",
       "    </tr>\n",
       "    <tr>\n",
       "      <th>4</th>\n",
       "      <td>5</td>\n",
       "      <td>60</td>\n",
       "      <td>RL</td>\n",
       "      <td>84.0</td>\n",
       "      <td>14260</td>\n",
       "      <td>Pave</td>\n",
       "      <td>NaN</td>\n",
       "      <td>IR1</td>\n",
       "      <td>Lvl</td>\n",
       "      <td>AllPub</td>\n",
       "      <td>...</td>\n",
       "      <td>0</td>\n",
       "      <td>NaN</td>\n",
       "      <td>NaN</td>\n",
       "      <td>NaN</td>\n",
       "      <td>0</td>\n",
       "      <td>12</td>\n",
       "      <td>2008</td>\n",
       "      <td>WD</td>\n",
       "      <td>Normal</td>\n",
       "      <td>250000</td>\n",
       "    </tr>\n",
       "  </tbody>\n",
       "</table>\n",
       "<p>5 rows × 81 columns</p>\n",
       "</div>"
      ],
      "text/plain": [
       "   Id  MSSubClass MSZoning  LotFrontage  LotArea Street Alley LotShape  \\\n",
       "0   1          60       RL         65.0     8450   Pave   NaN      Reg   \n",
       "1   2          20       RL         80.0     9600   Pave   NaN      Reg   \n",
       "2   3          60       RL         68.0    11250   Pave   NaN      IR1   \n",
       "3   4          70       RL         60.0     9550   Pave   NaN      IR1   \n",
       "4   5          60       RL         84.0    14260   Pave   NaN      IR1   \n",
       "\n",
       "  LandContour Utilities    ...     PoolArea PoolQC Fence MiscFeature MiscVal  \\\n",
       "0         Lvl    AllPub    ...            0    NaN   NaN         NaN       0   \n",
       "1         Lvl    AllPub    ...            0    NaN   NaN         NaN       0   \n",
       "2         Lvl    AllPub    ...            0    NaN   NaN         NaN       0   \n",
       "3         Lvl    AllPub    ...            0    NaN   NaN         NaN       0   \n",
       "4         Lvl    AllPub    ...            0    NaN   NaN         NaN       0   \n",
       "\n",
       "  MoSold YrSold  SaleType  SaleCondition  SalePrice  \n",
       "0      2   2008        WD         Normal     208500  \n",
       "1      5   2007        WD         Normal     181500  \n",
       "2      9   2008        WD         Normal     223500  \n",
       "3      2   2006        WD        Abnorml     140000  \n",
       "4     12   2008        WD         Normal     250000  \n",
       "\n",
       "[5 rows x 81 columns]"
      ]
     },
     "execution_count": 3,
     "metadata": {},
     "output_type": "execute_result"
    }
   ],
   "source": [
    "train.head()"
   ]
  },
  {
   "cell_type": "code",
   "execution_count": null,
   "metadata": {
    "collapsed": true
   },
   "outputs": [],
   "source": [
    "print ('The train data has {0} rows and {1} columns'.format(train.shape[0],train.shape[1]))\n",
    "print ('----------------------------')\n",
    "print ('The test data has {0} rows and {1} columns'.format(test.shape[0],test.shape[1]))\n",
    "miss = train.isnull().sum()/len(train)\n",
    "miss = miss[miss > 0]\n",
    "miss.sort_values(inplace=True)\n",
    "miss"
   ]
  },
  {
   "cell_type": "code",
   "execution_count": null,
   "metadata": {
    "collapsed": true
   },
   "outputs": [],
   "source": [
    "#visualising missing values\n",
    "miss = miss.to_frame()\n",
    "miss.columns = ['count']\n",
    "miss.index.names = ['Name']\n",
    "miss['Name'] = miss.index\n",
    "\n",
    "#plot the missing value count\n",
    "sns.set(style=\"whitegrid\", color_codes=True)\n",
    "sns.barplot(x = 'Name', y = 'count', data=miss)\n",
    "plt.xticks(rotation = 90)\n",
    "sns.plt.show()"
   ]
  },
  {
   "cell_type": "code",
   "execution_count": null,
   "metadata": {
    "collapsed": true
   },
   "outputs": [],
   "source": [
    "#SalePrice\n",
    "sns.distplot(train['SalePrice'])\n",
    "print(\"The skewness of SalePrice is {}\".format(train['SalePrice'].skew()))"
   ]
  },
  {
   "cell_type": "code",
   "execution_count": null,
   "metadata": {
    "collapsed": true
   },
   "outputs": [],
   "source": [
    "#now transforming the target variable\n",
    "target = np.log(train['SalePrice'])\n",
    "sns.distplot(target)\n",
    "print ('Skewness is', target.skew())"
   ]
  },
  {
   "cell_type": "code",
   "execution_count": null,
   "metadata": {
    "collapsed": true
   },
   "outputs": [],
   "source": [
    "#separate variables into new data frames\n",
    "numeric_data = train.select_dtypes(include=[np.number])\n",
    "cat_data = train.select_dtypes(exclude=[np.number])\n",
    "del numeric_data['Id']\n",
    "print(\"There are {} numeric and {} categorical columns in train data\".format(numeric_data.shape[1],cat_data.shape[1]))"
   ]
  },
  {
   "cell_type": "code",
   "execution_count": null,
   "metadata": {
    "collapsed": true
   },
   "outputs": [],
   "source": [
    "#correlation plot\n",
    "corr = numeric_data.corr()\n",
    "sns.heatmap(corr)"
   ]
  },
  {
   "cell_type": "code",
   "execution_count": null,
   "metadata": {
    "collapsed": true
   },
   "outputs": [],
   "source": [
    "print (corr['SalePrice'].sort_values(ascending=False)[:15], '\\n') #top 15 values\n",
    "print ('----------------------')\n",
    "print (corr['SalePrice'].sort_values()[:5]) #last 5 values\n",
    "\n",
    "#detailed OverallQual\n",
    "train['OverallQual'].unique()"
   ]
  },
  {
   "cell_type": "code",
   "execution_count": null,
   "metadata": {
    "collapsed": true
   },
   "outputs": [],
   "source": [
    "#let's check the mean price per quality and plot it.\n",
    "pivot = train.pivot_table(index='OverallQual', values='SalePrice', aggfunc=np.median)\n",
    "# Overall Quality - Median SalePrice\n",
    "print(pivot.sort_values(by='SalePrice'))\n",
    "pivot.plot(kind='bar', color='red')"
   ]
  },
  {
   "cell_type": "code",
   "execution_count": null,
   "metadata": {
    "collapsed": true
   },
   "outputs": [],
   "source": [
    "#GrLivArea variable\n",
    "sns.jointplot(x=train['GrLivArea'], y=train['SalePrice'])"
   ]
  },
  {
   "cell_type": "code",
   "execution_count": null,
   "metadata": {
    "collapsed": true
   },
   "outputs": [],
   "source": [
    "train[train['GrLivArea']>4000][['GrLivArea','SalePrice']]"
   ]
  },
  {
   "cell_type": "code",
   "execution_count": null,
   "metadata": {
    "collapsed": true
   },
   "outputs": [],
   "source": [
    "#TotalBsmtSF variable\n",
    "sns.jointplot(x=train['TotalBsmtSF'], y=train['SalePrice'])"
   ]
  },
  {
   "cell_type": "code",
   "execution_count": null,
   "metadata": {
    "collapsed": true
   },
   "outputs": [],
   "source": [
    "train[train['TotalBsmtSF']>3000][['TotalBsmtSF','SalePrice']]"
   ]
  },
  {
   "cell_type": "code",
   "execution_count": null,
   "metadata": {
    "collapsed": true
   },
   "outputs": [],
   "source": [
    "cat_data.describe()"
   ]
  },
  {
   "cell_type": "code",
   "execution_count": null,
   "metadata": {
    "collapsed": true
   },
   "outputs": [],
   "source": [
    "sp_pivot = train.pivot_table(index='SaleCondition', values='SalePrice', aggfunc=np.median)\n",
    "print(sp_pivot)\n",
    "sp_pivot.plot(kind='bar',color='red')"
   ]
  },
  {
   "cell_type": "code",
   "execution_count": null,
   "metadata": {
    "collapsed": true
   },
   "outputs": [],
   "source": [
    "cat = [f for f in train.columns if train.dtypes[f] == 'object']\n",
    "def anova(frame):\n",
    "    anv = pd.DataFrame()\n",
    "    anv['features'] = cat\n",
    "    pvals = []\n",
    "    for c in cat:\n",
    "           samples = []\n",
    "           for cls in frame[c].unique():\n",
    "                  s = frame[frame[c] == cls]['SalePrice'].values\n",
    "                  samples.append(s)\n",
    "           pval = stats.f_oneway(*samples)[1]\n",
    "           pvals.append(pval)\n",
    "    anv['pval'] = pvals\n",
    "    return anv.sort_values('pval')\n",
    "\n",
    "cat_data['SalePrice'] = train.SalePrice.values\n",
    "k = anova(cat_data) \n",
    "k['disparity'] = np.log(1./k['pval'].values) \n",
    "sns.barplot(data=k, x = 'features', y='disparity') \n",
    "plt.xticks(rotation=90) \n",
    "plt "
   ]
  },
  {
   "cell_type": "code",
   "execution_count": null,
   "metadata": {
    "collapsed": true
   },
   "outputs": [],
   "source": [
    "num = numeric_data.columns\n",
    "nd = pd.melt(train, value_vars = num)\n",
    "n1 = sns.FacetGrid (nd, col='variable', col_wrap=4, sharex=False, sharey = False)\n",
    "n1 = n1.map(sns.distplot, 'value')\n",
    "n1"
   ]
  },
  {
   "cell_type": "code",
   "execution_count": null,
   "metadata": {
    "collapsed": true
   },
   "outputs": [],
   "source": [
    "def boxplot(x,y,**kwargs):\n",
    "            sns.boxplot(x=x,y=y)\n",
    "            x = plt.xticks(rotation=90)\n",
    "\n",
    "cat = [f for f in train.columns if train.dtypes[f] == 'object']\n",
    "\n",
    "p = pd.melt(train, id_vars='SalePrice', value_vars=cat)\n",
    "g = sns.FacetGrid (p, col='variable', col_wrap=2, sharex=False, sharey=False, size=5)\n",
    "g = g.map(boxplot, 'value','SalePrice')\n",
    "g"
   ]
  },
  {
   "cell_type": "code",
   "execution_count": 4,
   "metadata": {
    "collapsed": true
   },
   "outputs": [],
   "source": [
    "#removing outliers\n",
    "train.drop(train[train['GrLivArea'] > 4000].index, inplace=True)\n",
    "train.drop(train[train['TotalBsmtSF'] > 3000].index, inplace=True)"
   ]
  },
  {
   "cell_type": "code",
   "execution_count": 5,
   "metadata": {
    "collapsed": true
   },
   "outputs": [],
   "source": [
    "test.loc[666]\n",
    "test.loc[666, 'GarageQual'] = \"TA\" #stats.mode(test['GarageQual']).mode\n",
    "test.loc[666, 'GarageCond'] = \"TA\" #stats.mode(test['GarageCond']).mode\n",
    "test.loc[666, 'GarageFinish'] = \"Unf\" #stats.mode(test['GarageFinish']).mode\n",
    "test.loc[666, 'GarageYrBlt'] = \"1980\" #np.nanmedian(test['GarageYrBlt'])\n",
    "#mark as missing\n",
    "test.loc[1116, 'GarageType'] = np.nan"
   ]
  },
  {
   "cell_type": "code",
   "execution_count": 6,
   "metadata": {
    "collapsed": true
   },
   "outputs": [],
   "source": [
    "#importing function\n",
    "from sklearn.preprocessing import LabelEncoder\n",
    "le = LabelEncoder()\n",
    "def factorize(data, var, fill_na = None):\n",
    "      if fill_na is not None:\n",
    "            data[var].fillna(fill_na, inplace=True)\n",
    "      le.fit(data[var])\n",
    "      data[var] = le.transform(data[var])\n",
    "      return data"
   ]
  },
  {
   "cell_type": "code",
   "execution_count": 7,
   "metadata": {
    "collapsed": true
   },
   "outputs": [],
   "source": [
    "#combine the data set\n",
    "alldata = train.append(test)"
   ]
  },
  {
   "cell_type": "code",
   "execution_count": 8,
   "metadata": {
    "collapsed": true
   },
   "outputs": [],
   "source": [
    "#impute lotfrontage by median of neighborhood\n",
    "lot_frontage_by_neighborhood = train['LotFrontage'].groupby(train['Neighborhood'])\n",
    "\n",
    "for key, group in lot_frontage_by_neighborhood:\n",
    "                idx = (alldata['Neighborhood'] == key) & (alldata['LotFrontage'].isnull())\n",
    "                alldata.loc[idx, 'LotFrontage'] = group.median()"
   ]
  },
  {
   "cell_type": "code",
   "execution_count": 9,
   "metadata": {
    "collapsed": true
   },
   "outputs": [],
   "source": [
    "#imputing missing values\n",
    "alldata[\"MasVnrArea\"].fillna(0, inplace=True)\n",
    "alldata[\"BsmtFinSF1\"].fillna(0, inplace=True)\n",
    "alldata[\"BsmtFinSF2\"].fillna(0, inplace=True)\n",
    "alldata[\"BsmtUnfSF\"].fillna(0, inplace=True)\n",
    "alldata[\"TotalBsmtSF\"].fillna(0, inplace=True)\n",
    "alldata[\"GarageArea\"].fillna(0, inplace=True)\n",
    "alldata[\"BsmtFullBath\"].fillna(0, inplace=True)\n",
    "alldata[\"BsmtHalfBath\"].fillna(0, inplace=True)\n",
    "alldata[\"GarageCars\"].fillna(0, inplace=True)\n",
    "alldata[\"GarageYrBlt\"].fillna(0.0, inplace=True)\n",
    "alldata[\"PoolArea\"].fillna(0, inplace=True)"
   ]
  },
  {
   "cell_type": "code",
   "execution_count": 10,
   "metadata": {
    "collapsed": true
   },
   "outputs": [],
   "source": [
    "qual_dict = {np.nan: 0, \"Po\": 1, \"Fa\": 2, \"TA\": 3, \"Gd\": 4, \"Ex\": 5}\n",
    "name = np.array(['ExterQual','PoolQC' ,'ExterCond','BsmtQual','BsmtCond','HeatingQC','KitchenQual','FireplaceQu', 'GarageQual','GarageCond'])\n",
    "\n",
    "for i in name:\n",
    "     alldata[i] = alldata[i].map(qual_dict).astype(int)\n",
    "\n",
    "alldata[\"BsmtExposure\"] = alldata[\"BsmtExposure\"].map({np.nan: 0, \"No\": 1, \"Mn\": 2, \"Av\": 3, \"Gd\": 4}).astype(int)\n",
    "\n",
    "bsmt_fin_dict = {np.nan: 0, \"Unf\": 1, \"LwQ\": 2, \"Rec\": 3, \"BLQ\": 4, \"ALQ\": 5, \"GLQ\": 6}\n",
    "alldata[\"BsmtFinType1\"] = alldata[\"BsmtFinType1\"].map(bsmt_fin_dict).astype(int)\n",
    "alldata[\"BsmtFinType2\"] = alldata[\"BsmtFinType2\"].map(bsmt_fin_dict).astype(int)\n",
    "alldata[\"Functional\"] = alldata[\"Functional\"].map({np.nan: 0, \"Sal\": 1, \"Sev\": 2, \"Maj2\": 3, \"Maj1\": 4, \"Mod\": 5, \"Min2\": 6, \"Min1\": 7, \"Typ\": 8}).astype(int)\n",
    "\n",
    "alldata[\"GarageFinish\"] = alldata[\"GarageFinish\"].map({np.nan: 0, \"Unf\": 1, \"RFn\": 2, \"Fin\": 3}).astype(int)\n",
    "alldata[\"Fence\"] = alldata[\"Fence\"].map({np.nan: 0, \"MnWw\": 1, \"GdWo\": 2, \"MnPrv\": 3, \"GdPrv\": 4}).astype(int)\n",
    "\n",
    "#encoding data\n",
    "alldata[\"CentralAir\"] = (alldata[\"CentralAir\"] == \"Y\") * 1.0\n",
    "varst = np.array(['MSSubClass','LotConfig','Neighborhood','Condition1','BldgType','HouseStyle','RoofStyle','Foundation','SaleCondition'])\n",
    "\n",
    "for x in varst:\n",
    "         factorize(alldata, x)\n",
    "\n",
    "#encode variables and impute missing values\n",
    "alldata = factorize(alldata, \"MSZoning\", \"RL\")\n",
    "alldata = factorize(alldata, \"Exterior1st\", \"Other\")\n",
    "alldata = factorize(alldata, \"Exterior2nd\", \"Other\")\n",
    "alldata = factorize(alldata, \"MasVnrType\", \"None\")\n",
    "alldata = factorize(alldata, \"SaleType\", \"Oth\")\n"
   ]
  },
  {
   "cell_type": "code",
   "execution_count": 11,
   "metadata": {
    "collapsed": true
   },
   "outputs": [],
   "source": [
    "#creating new variable (1 or 0) based on irregular count levels\n",
    "#The level with highest count is kept as 1 and rest as 0\n",
    "alldata[\"IsRegularLotShape\"] = (alldata[\"LotShape\"] == \"Reg\") * 1\n",
    "alldata[\"IsLandLevel\"] = (alldata[\"LandContour\"] == \"Lvl\") * 1\n",
    "alldata[\"IsLandSlopeGentle\"] = (alldata[\"LandSlope\"] == \"Gtl\") * 1\n",
    "alldata[\"IsElectricalSBrkr\"] = (alldata[\"Electrical\"] == \"SBrkr\") * 1\n",
    "alldata[\"IsGarageDetached\"] = (alldata[\"GarageType\"] == \"Detchd\") * 1\n",
    "alldata[\"IsPavedDrive\"] = (alldata[\"PavedDrive\"] == \"Y\") * 1\n",
    "alldata[\"HasShed\"] = (alldata[\"MiscFeature\"] == \"Shed\") * 1\n",
    "alldata[\"Remodeled\"] = (alldata[\"YearRemodAdd\"] != alldata[\"YearBuilt\"]) * 1\n",
    "\n",
    "#Did the modeling happened during the sale year\n",
    "alldata[\"RecentRemodel\"] = (alldata[\"YearRemodAdd\"] == alldata[\"YrSold\"]) * 1\n",
    "\n",
    "# Was this house sold in the year it was built?\n",
    "alldata[\"VeryNewHouse\"] = (alldata[\"YearBuilt\"] == alldata[\"YrSold\"]) * 1\n",
    "alldata[\"Has2ndFloor\"] = (alldata[\"2ndFlrSF\"] == 0) * 1\n",
    "alldata[\"HasMasVnr\"] = (alldata[\"MasVnrArea\"] == 0) * 1\n",
    "alldata[\"HasWoodDeck\"] = (alldata[\"WoodDeckSF\"] == 0) * 1\n",
    "alldata[\"HasOpenPorch\"] = (alldata[\"OpenPorchSF\"] == 0) * 1\n",
    "alldata[\"HasEnclosedPorch\"] = (alldata[\"EnclosedPorch\"] == 0) * 1\n",
    "alldata[\"Has3SsnPorch\"] = (alldata[\"3SsnPorch\"] == 0) * 1\n",
    "alldata[\"HasScreenPorch\"] = (alldata[\"ScreenPorch\"] == 0) * 1\n",
    "\n",
    "#setting levels with high count as 1 and rest as 0\n",
    "#you can check for them using value_counts function\n",
    "alldata[\"HighSeason\"] = alldata[\"MoSold\"].replace({1: 0, 2: 0, 3: 0, 4: 1, 5: 1, 6: 1, 7: 1, 8: 0, 9: 0, 10: 0, 11: 0, 12: 0})\n",
    "alldata[\"NewerDwelling\"] = alldata[\"MSSubClass\"].replace({20: 1, 30: 0, 40: 0, 45: 0,50: 0, 60: 1, 70: 0, 75: 0, 80: 0, 85: 0,90: 0, 120: 1, 150: 0, 160: 0, 180: 0, 190: 0})"
   ]
  },
  {
   "cell_type": "code",
   "execution_count": 12,
   "metadata": {},
   "outputs": [
    {
     "data": {
      "text/plain": [
       "(2912, 100)"
      ]
     },
     "execution_count": 12,
     "metadata": {},
     "output_type": "execute_result"
    }
   ],
   "source": [
    "alldata.shape"
   ]
  },
  {
   "cell_type": "code",
   "execution_count": 13,
   "metadata": {
    "collapsed": true
   },
   "outputs": [],
   "source": [
    "#create alldata2\n",
    "alldata2 = train.append(test)\n",
    "\n",
    "alldata[\"SaleCondition_PriceDown\"] = alldata2.SaleCondition.replace({'Abnorml': 1, 'Alloca': 1, 'AdjLand': 1, 'Family': 1, 'Normal': 0, 'Partial': 0})\n",
    "\n",
    "# house completed before sale or not\n",
    "alldata[\"BoughtOffPlan\"] = alldata2.SaleCondition.replace({\"Abnorml\" : 0, \"Alloca\" : 0, \"AdjLand\" : 0, \"Family\" : 0, \"Normal\" : 0, \"Partial\" : 1})\n",
    "alldata[\"BadHeating\"] = alldata2.HeatingQC.replace({'Ex': 0, 'Gd': 0, 'TA': 0, 'Fa': 1, 'Po': 1})"
   ]
  },
  {
   "cell_type": "code",
   "execution_count": 14,
   "metadata": {},
   "outputs": [
    {
     "data": {
      "text/plain": [
       "<matplotlib.axes._subplots.AxesSubplot at 0xc1e09e9ef0>"
      ]
     },
     "execution_count": 14,
     "metadata": {},
     "output_type": "execute_result"
    },
    {
     "data": {
      "image/png": "[encoded data removed]",
      "text/plain": [
       "<matplotlib.figure.Figure at 0xc1e09e9ac8>"
      ]
     },
     "metadata": {},
     "output_type": "display_data"
    }
   ],
   "source": [
    "#calculating total area using all area columns\n",
    "area_cols = ['LotFrontage', 'LotArea', 'MasVnrArea', 'BsmtFinSF1', 'BsmtFinSF2', 'BsmtUnfSF',\n",
    "             'TotalBsmtSF', '1stFlrSF', '2ndFlrSF', 'GrLivArea', 'GarageArea', 'WoodDeckSF',\n",
    "             'OpenPorchSF', 'EnclosedPorch', '3SsnPorch', 'ScreenPorch', 'LowQualFinSF', 'PoolArea' ]\n",
    "\n",
    "alldata[\"TotalArea\"] = alldata[area_cols].sum(axis=1)\n",
    "alldata[\"TotalArea1st2nd\"] = alldata[\"1stFlrSF\"] + alldata[\"2ndFlrSF\"]\n",
    "alldata[\"Age\"] = 2010 - alldata[\"YearBuilt\"]\n",
    "alldata[\"TimeSinceSold\"] = 2010 - alldata[\"YrSold\"]\n",
    "alldata[\"SeasonSold\"] = alldata[\"MoSold\"].map({12:0, 1:0, 2:0, 3:1, 4:1, 5:1, 6:2, 7:2, 8:2, 9:3, 10:3, 11:3}).astype(int)\n",
    "alldata[\"YearsSinceRemodel\"] = alldata[\"YrSold\"] - alldata[\"YearRemodAdd\"]\n",
    "\n",
    "# Simplifications of existing features into bad/average/good based on counts\n",
    "alldata[\"SimplOverallQual\"] = alldata.OverallQual.replace({1 : 1, 2 : 1, 3 : 1, 4 : 2, 5 : 2, 6 : 2, 7 : 3, 8 : 3, 9 : 3, 10 : 3})\n",
    "alldata[\"SimplOverallCond\"] = alldata.OverallCond.replace({1 : 1, 2 : 1, 3 : 1, 4 : 2, 5 : 2, 6 : 2, 7 : 3, 8 : 3, 9 : 3, 10 : 3})\n",
    "alldata[\"SimplPoolQC\"] = alldata.PoolQC.replace({1 : 1, 2 : 1, 3 : 2, 4 : 2})\n",
    "alldata[\"SimplGarageCond\"] = alldata.GarageCond.replace({1 : 1, 2 : 1, 3 : 1, 4 : 2, 5 : 2})\n",
    "alldata[\"SimplGarageQual\"] = alldata.GarageQual.replace({1 : 1, 2 : 1, 3 : 1, 4 : 2, 5 : 2})\n",
    "alldata[\"SimplFireplaceQu\"] = alldata.FireplaceQu.replace({1 : 1, 2 : 1, 3 : 1, 4 : 2, 5 : 2})\n",
    "alldata[\"SimplFireplaceQu\"] = alldata.FireplaceQu.replace({1 : 1, 2 : 1, 3 : 1, 4 : 2, 5 : 2})\n",
    "alldata[\"SimplFunctional\"] = alldata.Functional.replace({1 : 1, 2 : 1, 3 : 2, 4 : 2, 5 : 3, 6 : 3, 7 : 3, 8 : 4})\n",
    "alldata[\"SimplKitchenQual\"] = alldata.KitchenQual.replace({1 : 1, 2 : 1, 3 : 1, 4 : 2, 5 : 2})\n",
    "alldata[\"SimplHeatingQC\"] = alldata.HeatingQC.replace({1 : 1, 2 : 1, 3 : 1, 4 : 2, 5 : 2})\n",
    "alldata[\"SimplBsmtFinType1\"] = alldata.BsmtFinType1.replace({1 : 1, 2 : 1, 3 : 1, 4 : 2, 5 : 2, 6 : 2})\n",
    "alldata[\"SimplBsmtFinType2\"] = alldata.BsmtFinType2.replace({1 : 1, 2 : 1, 3 : 1, 4 : 2, 5 : 2, 6 : 2})\n",
    "alldata[\"SimplBsmtCond\"] = alldata.BsmtCond.replace({1 : 1, 2 : 1, 3 : 1, 4 : 2, 5 : 2})\n",
    "alldata[\"SimplBsmtQual\"] = alldata.BsmtQual.replace({1 : 1, 2 : 1, 3 : 1, 4 : 2, 5 : 2})\n",
    "alldata[\"SimplExterCond\"] = alldata.ExterCond.replace({1 : 1, 2 : 1, 3 : 1, 4 : 2, 5 : 2})\n",
    "alldata[\"SimplExterQual\"] = alldata.ExterQual.replace({1 : 1, 2 : 1, 3 : 1, 4 : 2, 5 : 2})\n",
    "\n",
    "#grouping neighborhood variable based on this plot\n",
    "train['SalePrice'].groupby(train['Neighborhood']).median().sort_values().plot(kind='bar')"
   ]
  },
  {
   "cell_type": "code",
   "execution_count": 15,
   "metadata": {},
   "outputs": [
    {
     "data": {
      "text/plain": [
       "(2912, 126)"
      ]
     },
     "execution_count": 15,
     "metadata": {},
     "output_type": "execute_result"
    }
   ],
   "source": [
    "neighborhood_map = {\"MeadowV\" : 0, \"IDOTRR\" : 1, \"BrDale\" : 1, \"OldTown\" : 1, \"Edwards\" : 1, \"BrkSide\" : 1,\n",
    "                    \"Sawyer\" : 1, \"Blueste\" : 1, \"SWISU\" : 2, \"NAmes\" : 2, \"NPkVill\" : 2, \"Mitchel\" : 2, \n",
    "                    \"SawyerW\" : 2, \"Gilbert\" : 2, \"NWAmes\" : 2, \"Blmngtn\" : 2, \"CollgCr\" : 2, \n",
    "                    \"ClearCr\" : 3, \"Crawfor\" : 3, \"Veenker\" : 3, \"Somerst\" : 3, \"Timber\" : 3, \"StoneBr\" : 4, \n",
    "                    \"NoRidge\" : 4, \"NridgHt\" : 4}\n",
    "\n",
    "alldata['NeighborhoodBin'] = alldata2['Neighborhood'].map(neighborhood_map)\n",
    "alldata.loc[alldata2.Neighborhood == 'NridgHt', \"Neighborhood_Good\"] = 1\n",
    "alldata.loc[alldata2.Neighborhood == 'Crawfor', \"Neighborhood_Good\"] = 1\n",
    "alldata.loc[alldata2.Neighborhood == 'StoneBr', \"Neighborhood_Good\"] = 1\n",
    "alldata.loc[alldata2.Neighborhood == 'Somerst', \"Neighborhood_Good\"] = 1\n",
    "alldata.loc[alldata2.Neighborhood == 'NoRidge', \"Neighborhood_Good\"] = 1\n",
    "alldata[\"Neighborhood_Good\"].fillna(0, inplace=True)\n",
    "alldata[\"SaleCondition_PriceDown\"] = alldata2.SaleCondition.replace({'Abnorml': 1, 'Alloca': 1, 'AdjLand': 1, 'Family': 1, 'Normal': 0, 'Partial': 0})\n",
    "\n",
    "# House completed before sale or not\n",
    "alldata[\"BoughtOffPlan\"] = alldata2.SaleCondition.replace({\"Abnorml\" : 0, \"Alloca\" : 0, \"AdjLand\" : 0, \"Family\" : 0, \"Normal\" : 0, \"Partial\" : 1})\n",
    "alldata[\"BadHeating\"] = alldata2.HeatingQC.replace({'Ex': 0, 'Gd': 0, 'TA': 0, 'Fa': 1, 'Po': 1})\n",
    "alldata.shape"
   ]
  },
  {
   "cell_type": "code",
   "execution_count": 17,
   "metadata": {
    "collapsed": true
   },
   "outputs": [],
   "source": [
    "cols = ['Alley','Condition2','Heating','LandContour','LandSlope','LotShape','PavedDrive', 'RoofMatl', 'Street']\n",
    "cols = cols+['Electrical', 'GarageType','MiscFeature','Utilities']\n",
    "alldata['GarageYrBlt'] = alldata['GarageYrBlt'].astype(int)\n",
    "for i in cols:\n",
    "    alldata[i] = alldata[i].astype(str)\n",
    "    alldata = factorize(alldata,i)"
   ]
  },
  {
   "cell_type": "code",
   "execution_count": 44,
   "metadata": {},
   "outputs": [
    {
     "name": "stdout",
     "output_type": "stream",
     "text": [
      "Train:  (1453, 126)\n",
      "----------------\n",
      "Test:  (1459, 126)\n"
     ]
    }
   ],
   "source": [
    "#create new data\n",
    "train_new = alldata[alldata['SalePrice'].notnull()]\n",
    "test_new = alldata[alldata['SalePrice'].isnull()]\n",
    "\n",
    "print(\"Train: \", train_new.shape)\n",
    "print ('----------------')\n",
    "print(\"Test: \", test_new.shape)"
   ]
  },
  {
   "cell_type": "code",
   "execution_count": 45,
   "metadata": {},
   "outputs": [
    {
     "name": "stderr",
     "output_type": "stream",
     "text": [
      "C:\\ProgramData\\Anaconda3\\lib\\site-packages\\pandas\\core\\frame.py:2450: SettingWithCopyWarning: \n",
      "A value is trying to be set on a copy of a slice from a DataFrame.\n",
      "Try using .loc[row_indexer,col_indexer] = value instead\n",
      "\n",
      "See the caveats in the documentation: http://pandas.pydata.org/pandas-docs/stable/indexing.html#indexing-view-versus-copy\n",
      "  self[k1] = value[k2]\n"
     ]
    }
   ],
   "source": [
    "#get numeric features\n",
    "numeric_features = [f for f in train_new.columns if train_new[f].dtype != object]\n",
    "\n",
    "#transform the numeric features using log(x + 1)\n",
    "from scipy.stats import skew\n",
    "skewed = train_new[numeric_features].apply(lambda x: skew(x.dropna().astype(float)))\n",
    "skewed = skewed[skewed > 0.75]\n",
    "skewed = skewed.index\n",
    "train_new[skewed] = np.log1p(train_new[skewed])\n",
    "test_new[skewed] = np.log1p(test_new[skewed])\n",
    "del test_new['SalePrice']"
   ]
  },
  {
   "cell_type": "code",
   "execution_count": 46,
   "metadata": {},
   "outputs": [
    {
     "name": "stderr",
     "output_type": "stream",
     "text": [
      "C:\\ProgramData\\Anaconda3\\lib\\site-packages\\ipykernel_launcher.py:7: SettingWithCopyWarning: \n",
      "A value is trying to be set on a copy of a slice from a DataFrame.\n",
      "Try using .loc[row_indexer,col_indexer] = value instead\n",
      "\n",
      "See the caveats in the documentation: http://pandas.pydata.org/pandas-docs/stable/indexing.html#indexing-view-versus-copy\n",
      "  import sys\n",
      "C:\\ProgramData\\Anaconda3\\lib\\site-packages\\ipykernel_launcher.py:13: SettingWithCopyWarning: \n",
      "A value is trying to be set on a copy of a slice from a DataFrame.\n",
      "Try using .loc[row_indexer,col_indexer] = value instead\n",
      "\n",
      "See the caveats in the documentation: http://pandas.pydata.org/pandas-docs/stable/indexing.html#indexing-view-versus-copy\n",
      "  del sys.path[0]\n"
     ]
    }
   ],
   "source": [
    "from sklearn.preprocessing import StandardScaler\n",
    "scaler = StandardScaler()\n",
    "scaler.fit(train_new[numeric_features])\n",
    "scaled = scaler.transform(train_new[numeric_features])\n",
    "\n",
    "for i, col in enumerate(numeric_features):\n",
    "       train_new[col] = scaled[:,i]\n",
    "\n",
    "numeric_features.remove('SalePrice')\n",
    "scaled = scaler.fit_transform(test_new[numeric_features])\n",
    "\n",
    "for i, col in enumerate(numeric_features):\n",
    "      test_new[col] = scaled[:,i]"
   ]
  },
  {
   "cell_type": "code",
   "execution_count": 47,
   "metadata": {
    "collapsed": true
   },
   "outputs": [],
   "source": [
    "def onehot(onehot_df, df, column_name, fill_na):\n",
    "       onehot_df[column_name] = df[column_name]\n",
    "       if fill_na is not None:\n",
    "            onehot_df[column_name].fillna(fill_na, inplace=True)\n",
    "\n",
    "       dummies = pd.get_dummies(onehot_df[column_name], prefix=\"_\"+column_name)\n",
    "       onehot_df = onehot_df.join(dummies)\n",
    "       onehot_df = onehot_df.drop([column_name], axis=1)\n",
    "       return onehot_df\n",
    "\n",
    "def munge_onehot(df):\n",
    "       onehot_df = pd.DataFrame(index = df.index)\n",
    "\n",
    "       onehot_df = onehot(onehot_df, df, \"MSSubClass\", None)\n",
    "       onehot_df = onehot(onehot_df, df, \"MSZoning\", \"RL\")\n",
    "       onehot_df = onehot(onehot_df, df, \"LotConfig\", None)\n",
    "       onehot_df = onehot(onehot_df, df, \"Neighborhood\", None)\n",
    "       onehot_df = onehot(onehot_df, df, \"Condition1\", None)\n",
    "       onehot_df = onehot(onehot_df, df, \"BldgType\", None)\n",
    "       onehot_df = onehot(onehot_df, df, \"HouseStyle\", None)\n",
    "       onehot_df = onehot(onehot_df, df, \"RoofStyle\", None)\n",
    "       onehot_df = onehot(onehot_df, df, \"Exterior1st\", \"VinylSd\")\n",
    "       onehot_df = onehot(onehot_df, df, \"Exterior2nd\", \"VinylSd\")\n",
    "       onehot_df = onehot(onehot_df, df, \"Foundation\", None)\n",
    "       onehot_df = onehot(onehot_df, df, \"SaleType\", \"WD\")\n",
    "       onehot_df = onehot(onehot_df, df, \"SaleCondition\", \"Normal\")\n",
    "\n",
    "       #Fill in missing MasVnrType for rows that do have a MasVnrArea.\n",
    "       temp_df = df[[\"MasVnrType\", \"MasVnrArea\"]].copy()\n",
    "       idx = (df[\"MasVnrArea\"] != 0) & ((df[\"MasVnrType\"] == \"None\") | (df[\"MasVnrType\"].isnull()))\n",
    "       temp_df.loc[idx, \"MasVnrType\"] = \"BrkFace\"\n",
    "       onehot_df = onehot(onehot_df, temp_df, \"MasVnrType\", \"None\")\n",
    "\n",
    "       onehot_df = onehot(onehot_df, df, \"LotShape\", None)\n",
    "       onehot_df = onehot(onehot_df, df, \"LandContour\", None)\n",
    "       onehot_df = onehot(onehot_df, df, \"LandSlope\", None)\n",
    "       onehot_df = onehot(onehot_df, df, \"Electrical\", \"SBrkr\")\n",
    "       onehot_df = onehot(onehot_df, df, \"GarageType\", \"None\")\n",
    "       onehot_df = onehot(onehot_df, df, \"PavedDrive\", None)\n",
    "       onehot_df = onehot(onehot_df, df, \"MiscFeature\", \"None\")\n",
    "       onehot_df = onehot(onehot_df, df, \"Street\", None)\n",
    "       onehot_df = onehot(onehot_df, df, \"Alley\", \"None\")\n",
    "       onehot_df = onehot(onehot_df, df, \"Condition2\", None)\n",
    "       onehot_df = onehot(onehot_df, df, \"RoofMatl\", None)\n",
    "       onehot_df = onehot(onehot_df, df, \"Heating\", None)\n",
    "\n",
    "       # we'll have these as numerical variables too\n",
    "       onehot_df = onehot(onehot_df, df, \"ExterQual\", \"None\")\n",
    "       onehot_df = onehot(onehot_df, df, \"ExterCond\", \"None\")\n",
    "       onehot_df = onehot(onehot_df, df, \"BsmtQual\", \"None\")\n",
    "       onehot_df = onehot(onehot_df, df, \"BsmtCond\", \"None\")\n",
    "       onehot_df = onehot(onehot_df, df, \"HeatingQC\", \"None\")\n",
    "       onehot_df = onehot(onehot_df, df, \"KitchenQual\", \"TA\")\n",
    "       onehot_df = onehot(onehot_df, df, \"FireplaceQu\", \"None\")\n",
    "       onehot_df = onehot(onehot_df, df, \"GarageQual\", \"None\")\n",
    "       onehot_df = onehot(onehot_df, df, \"GarageCond\", \"None\")\n",
    "       onehot_df = onehot(onehot_df, df, \"PoolQC\", \"None\")\n",
    "       onehot_df = onehot(onehot_df, df, \"BsmtExposure\", \"None\")\n",
    "       onehot_df = onehot(onehot_df, df, \"BsmtFinType1\", \"None\")\n",
    "       onehot_df = onehot(onehot_df, df, \"BsmtFinType2\", \"None\")\n",
    "       onehot_df = onehot(onehot_df, df, \"Functional\", \"Typ\")\n",
    "       onehot_df = onehot(onehot_df, df, \"GarageFinish\", \"None\")\n",
    "       onehot_df = onehot(onehot_df, df, \"Fence\", \"None\")\n",
    "       onehot_df = onehot(onehot_df, df, \"MoSold\", None)\n",
    "\n",
    "       # Divide  the years between 1871 and 2010 into slices of 20 years\n",
    "       year_map = pd.concat(pd.Series(\"YearBin\" + str(i+1), index=range(1871+i*20,1891+i*20))  for i in range(0, 7))\n",
    "       yearbin_df = pd.DataFrame(index = df.index)\n",
    "       yearbin_df[\"GarageYrBltBin\"] = df.GarageYrBlt.map(year_map)\n",
    "       yearbin_df[\"GarageYrBltBin\"].fillna(\"NoGarage\", inplace=True)\n",
    "       yearbin_df[\"YearBuiltBin\"] = df.YearBuilt.map(year_map)\n",
    "       yearbin_df[\"YearRemodAddBin\"] = df.YearRemodAdd.map(year_map)\n",
    "\n",
    "       onehot_df = onehot(onehot_df, yearbin_df, \"GarageYrBltBin\", None)\n",
    "       onehot_df = onehot(onehot_df, yearbin_df, \"YearBuiltBin\", None)\n",
    "       onehot_df = onehot(onehot_df, yearbin_df, \"YearRemodAddBin\", None)\n",
    "       return onehot_df\n",
    "\n",
    "#create one-hot features\n",
    "onehot_df = munge_onehot(train)\n",
    "\n",
    "neighborhood_train = pd.DataFrame(index=train_new.shape)\n",
    "neighborhood_train['NeighborhoodBin'] = train_new['NeighborhoodBin']\n",
    "neighborhood_test = pd.DataFrame(index=test_new.shape)\n",
    "neighborhood_test['NeighborhoodBin'] = test_new['NeighborhoodBin']\n",
    "\n",
    "onehot_df = onehot(onehot_df, neighborhood_train, 'NeighborhoodBin', None)"
   ]
  },
  {
   "cell_type": "code",
   "execution_count": 48,
   "metadata": {},
   "outputs": [
    {
     "data": {
      "text/plain": [
       "(1453, 433)"
      ]
     },
     "execution_count": 48,
     "metadata": {},
     "output_type": "execute_result"
    }
   ],
   "source": [
    "train_new = train_new.join(onehot_df) \n",
    "train_new.shape"
   ]
  },
  {
   "cell_type": "code",
   "execution_count": 49,
   "metadata": {},
   "outputs": [
    {
     "data": {
      "text/plain": [
       "(1459, 417)"
      ]
     },
     "execution_count": 49,
     "metadata": {},
     "output_type": "execute_result"
    }
   ],
   "source": [
    "#adding one hot features to test\n",
    "onehot_df_te = munge_onehot(test)\n",
    "onehot_df_te = onehot(onehot_df_te, neighborhood_test, \"NeighborhoodBin\", None)\n",
    "test_new = test_new.join(onehot_df_te)\n",
    "test_new.shape"
   ]
  },
  {
   "cell_type": "code",
   "execution_count": 50,
   "metadata": {},
   "outputs": [
    {
     "data": {
      "text/plain": [
       "(1453, 417)"
      ]
     },
     "execution_count": 50,
     "metadata": {},
     "output_type": "execute_result"
    }
   ],
   "source": [
    "drop_cols = [\"_Exterior1st_ImStucc\", \"_Exterior1st_Stone\",\"_Exterior2nd_Other\",\"_HouseStyle_2.5Fin\",\"_RoofMatl_Membran\", \"_RoofMatl_Metal\", \"_RoofMatl_Roll\", \"_Condition2_RRAe\", \"_Condition2_RRAn\", \"_Condition2_RRNn\", \"_Heating_Floor\", \"_Heating_OthW\", \"_Electrical_Mix\", \"_MiscFeature_TenC\", \"_GarageQual_Ex\",  \"_PoolQC_Fa\"]\n",
    "train_new.drop(drop_cols, axis=1, inplace=True)\n",
    "train_new.shape"
   ]
  },
  {
   "cell_type": "code",
   "execution_count": 51,
   "metadata": {
    "collapsed": true
   },
   "outputs": [],
   "source": [
    "#removing one column missing from train data\n",
    "test_new.drop([\"_MSSubClass_150\"], axis=1, inplace=True)\n",
    "\n",
    "# Drop these columns\n",
    "drop_cols = [\"_Condition2_PosN\", # only two are not zero\n",
    "         \"_MSZoning_C (all)\",\n",
    "         \"_MSSubClass_160\"]\n",
    "\n",
    "train_new.drop(drop_cols, axis=1, inplace=True)\n",
    "test_new.drop(drop_cols, axis=1, inplace=True)"
   ]
  },
  {
   "cell_type": "code",
   "execution_count": 56,
   "metadata": {
    "collapsed": true
   },
   "outputs": [],
   "source": [
    "label_df = pd.DataFrame(index = train_new.index, columns = ['SalePrice'])\n",
    "label_df['SalePrice'] = np.log(train['SalePrice'])"
   ]
  },
  {
   "cell_type": "code",
   "execution_count": 71,
   "metadata": {},
   "outputs": [
    {
     "name": "stdout",
     "output_type": "stream",
     "text": [
      "Training set size: (1453, 412)\n",
      "Test set size: (1459, 412)\n"
     ]
    }
   ],
   "source": [
    "test_new = test_new[train_new.columns]\n",
    "print(\"Training set size:\", train_new.shape)\n",
    "print(\"Test set size:\", test_new.shape)"
   ]
  },
  {
   "cell_type": "code",
   "execution_count": 72,
   "metadata": {},
   "outputs": [
    {
     "data": {
      "text/plain": [
       "XGBRegressor(base_score=0.5, booster='gbtree', colsample_bylevel=1,\n",
       "       colsample_bytree=0.2, gamma=0.0, learning_rate=0.05,\n",
       "       max_delta_step=0, max_depth=6, min_child_weight=1.5, missing=None,\n",
       "       n_estimators=7200, n_jobs=1, nthread=None, objective='reg:linear',\n",
       "       random_state=0, reg_alpha=0.9, reg_lambda=0.6, scale_pos_weight=1,\n",
       "       seed=42, silent=1, subsample=0.2)"
      ]
     },
     "execution_count": 72,
     "metadata": {},
     "output_type": "execute_result"
    }
   ],
   "source": [
    "import xgboost as xgb\n",
    "regr = xgb.XGBRegressor(colsample_bytree=0.2,\n",
    "                       gamma=0.0,\n",
    "                       learning_rate=0.05,\n",
    "                       max_depth=6,\n",
    "                       min_child_weight=1.5,\n",
    "                       n_estimators=7200,\n",
    "                       reg_alpha=0.9,\n",
    "                       reg_lambda=0.6,\n",
    "                       subsample=0.2,\n",
    "                       seed=42,\n",
    "                       silent=1)\n",
    "\n",
    "regr.fit(train_new, label_df)"
   ]
  },
  {
   "cell_type": "code",
   "execution_count": 73,
   "metadata": {},
   "outputs": [
    {
     "name": "stdout",
     "output_type": "stream",
     "text": [
      "XGBoost score on training set:  0.0374675028845\n"
     ]
    }
   ],
   "source": [
    "from sklearn.metrics import mean_squared_error\n",
    "def rmse(y_test,y_pred):\n",
    "      return np.sqrt(mean_squared_error(y_test,y_pred))\n",
    "\n",
    "# Run prediction on training set to get a rough idea of how well it does.\n",
    "y_pred = regr.predict(train_new)\n",
    "y_test = label_df\n",
    "print(\"XGBoost score on training set: \", rmse(y_test, y_pred))\n",
    "# make prediction on test set.\n",
    "y_pred_xgb = regr.predict(test_new)\n",
    "\n",
    "#submit this prediction and get the score\n",
    "pred1 = pd.DataFrame({'Id': test['Id'], 'SalePrice': np.exp(y_pred_xgb)})\n",
    "pred1.to_csv('xgbnono.csv', header=True, index=False)"
   ]
  },
  {
   "cell_type": "code",
   "execution_count": 83,
   "metadata": {
    "collapsed": true
   },
   "outputs": [],
   "source": [
    "label_df = np.array(label_df['SalePrice'])"
   ]
  },
  {
   "cell_type": "code",
   "execution_count": 84,
   "metadata": {
    "collapsed": true
   },
   "outputs": [],
   "source": [
    "from sklearn.model_selection import train_test_split\n",
    "X_train, X_test, y_train, y_test = train_test_split(train_new,label_df,test_size = 0.7)"
   ]
  },
  {
   "cell_type": "code",
   "execution_count": 85,
   "metadata": {
    "collapsed": true
   },
   "outputs": [],
   "source": [
    "import lightgbm as lgb\n",
    "dtrain = lgb.Dataset(X_train, y_train)\n",
    "dval = lgb.Dataset(X_test, y_test)"
   ]
  },
  {
   "cell_type": "code",
   "execution_count": 114,
   "metadata": {
    "collapsed": true
   },
   "outputs": [],
   "source": [
    "params = {\n",
    "    \n",
    "    'num_leaves' : 64,\n",
    "    'learning_rate':0.001,\n",
    "    'metric':'rmse',\n",
    "    'max_depth':5,\n",
    "}"
   ]
  },
  {
   "cell_type": "code",
   "execution_count": null,
   "metadata": {},
   "outputs": [
    {
     "name": "stdout",
     "output_type": "stream",
     "text": [
      "[100]\ttraining's rmse: 0.362777\tvalid_1's rmse: 0.36977\n",
      "[200]\ttraining's rmse: 0.336337\tvalid_1's rmse: 0.345635\n",
      "[300]\ttraining's rmse: 0.31256\tvalid_1's rmse: 0.324251\n",
      "[400]\ttraining's rmse: 0.29105\tvalid_1's rmse: 0.305207\n",
      "[500]\ttraining's rmse: 0.271814\tvalid_1's rmse: 0.288244\n",
      "[600]\ttraining's rmse: 0.254521\tvalid_1's rmse: 0.273141\n",
      "[700]\ttraining's rmse: 0.238942\tvalid_1's rmse: 0.259767\n",
      "[800]\ttraining's rmse: 0.224546\tvalid_1's rmse: 0.247582\n",
      "[900]\ttraining's rmse: 0.211624\tvalid_1's rmse: 0.236331\n",
      "[1000]\ttraining's rmse: 0.200034\tvalid_1's rmse: 0.226222\n",
      "[1100]\ttraining's rmse: 0.189576\tvalid_1's rmse: 0.217097\n",
      "[1200]\ttraining's rmse: 0.179635\tvalid_1's rmse: 0.208834\n",
      "[1300]\ttraining's rmse: 0.17059\tvalid_1's rmse: 0.201171\n",
      "[1400]\ttraining's rmse: 0.162305\tvalid_1's rmse: 0.194103\n",
      "[1500]\ttraining's rmse: 0.154761\tvalid_1's rmse: 0.187801\n",
      "[1600]\ttraining's rmse: 0.147978\tvalid_1's rmse: 0.182217\n",
      "[1700]\ttraining's rmse: 0.141947\tvalid_1's rmse: 0.177207\n",
      "[1800]\ttraining's rmse: 0.136638\tvalid_1's rmse: 0.172913\n",
      "[1900]\ttraining's rmse: 0.13189\tvalid_1's rmse: 0.169123\n",
      "[2000]\ttraining's rmse: 0.127491\tvalid_1's rmse: 0.165646\n",
      "[2100]\ttraining's rmse: 0.123508\tvalid_1's rmse: 0.162473\n",
      "[2200]\ttraining's rmse: 0.119871\tvalid_1's rmse: 0.15959\n",
      "[2300]\ttraining's rmse: 0.116529\tvalid_1's rmse: 0.156971\n",
      "[2400]\ttraining's rmse: 0.113525\tvalid_1's rmse: 0.154714\n",
      "[2500]\ttraining's rmse: 0.111042\tvalid_1's rmse: 0.152875\n",
      "[2600]\ttraining's rmse: 0.108731\tvalid_1's rmse: 0.151269\n",
      "[2700]\ttraining's rmse: 0.106707\tvalid_1's rmse: 0.149897\n",
      "[2800]\ttraining's rmse: 0.104789\tvalid_1's rmse: 0.148483\n",
      "[2900]\ttraining's rmse: 0.103052\tvalid_1's rmse: 0.147114\n",
      "[3000]\ttraining's rmse: 0.101457\tvalid_1's rmse: 0.145875\n",
      "[3100]\ttraining's rmse: 0.0999273\tvalid_1's rmse: 0.14476\n",
      "[3200]\ttraining's rmse: 0.0985003\tvalid_1's rmse: 0.14373\n",
      "[3300]\ttraining's rmse: 0.0971771\tvalid_1's rmse: 0.142814\n",
      "[3400]\ttraining's rmse: 0.0959922\tvalid_1's rmse: 0.142032\n",
      "[3500]\ttraining's rmse: 0.0948697\tvalid_1's rmse: 0.141313\n",
      "[3600]\ttraining's rmse: 0.0938325\tvalid_1's rmse: 0.140654\n",
      "[3700]\ttraining's rmse: 0.0928553\tvalid_1's rmse: 0.140069\n",
      "[3800]\ttraining's rmse: 0.09186\tvalid_1's rmse: 0.139523\n",
      "[3900]\ttraining's rmse: 0.0909291\tvalid_1's rmse: 0.139032\n",
      "[4000]\ttraining's rmse: 0.0900255\tvalid_1's rmse: 0.138604\n",
      "[4100]\ttraining's rmse: 0.0891596\tvalid_1's rmse: 0.1382\n",
      "[4200]\ttraining's rmse: 0.088347\tvalid_1's rmse: 0.137819\n",
      "[4300]\ttraining's rmse: 0.0875788\tvalid_1's rmse: 0.137455\n",
      "[4400]\ttraining's rmse: 0.086842\tvalid_1's rmse: 0.137108\n",
      "[4500]\ttraining's rmse: 0.086126\tvalid_1's rmse: 0.13678\n",
      "[4600]\ttraining's rmse: 0.0854492\tvalid_1's rmse: 0.136533\n",
      "[4700]\ttraining's rmse: 0.0847718\tvalid_1's rmse: 0.13629\n",
      "[4800]\ttraining's rmse: 0.0841657\tvalid_1's rmse: 0.136075\n",
      "[4900]\ttraining's rmse: 0.0835502\tvalid_1's rmse: 0.135878\n",
      "[5000]\ttraining's rmse: 0.0829117\tvalid_1's rmse: 0.135695\n",
      "[5100]\ttraining's rmse: 0.0822519\tvalid_1's rmse: 0.135518\n",
      "[5200]\ttraining's rmse: 0.0816578\tvalid_1's rmse: 0.135352\n",
      "[5300]\ttraining's rmse: 0.0810374\tvalid_1's rmse: 0.135175\n",
      "[5400]\ttraining's rmse: 0.0804809\tvalid_1's rmse: 0.13502\n",
      "[5500]\ttraining's rmse: 0.079934\tvalid_1's rmse: 0.134885\n",
      "[5600]\ttraining's rmse: 0.0794219\tvalid_1's rmse: 0.13477\n",
      "[5700]\ttraining's rmse: 0.0789214\tvalid_1's rmse: 0.134663\n",
      "[5800]\ttraining's rmse: 0.078384\tvalid_1's rmse: 0.134536\n",
      "[5900]\ttraining's rmse: 0.0778182\tvalid_1's rmse: 0.134392\n",
      "[6000]\ttraining's rmse: 0.0772504\tvalid_1's rmse: 0.134243\n",
      "[6100]\ttraining's rmse: 0.0767163\tvalid_1's rmse: 0.134115\n",
      "[6200]\ttraining's rmse: 0.0762095\tvalid_1's rmse: 0.134011\n",
      "[6300]\ttraining's rmse: 0.0757258\tvalid_1's rmse: 0.133937\n",
      "[6400]\ttraining's rmse: 0.0752571\tvalid_1's rmse: 0.133862\n",
      "[6500]\ttraining's rmse: 0.0747933\tvalid_1's rmse: 0.133772\n",
      "[6600]\ttraining's rmse: 0.0743401\tvalid_1's rmse: 0.133685\n",
      "[6700]\ttraining's rmse: 0.073921\tvalid_1's rmse: 0.133596\n",
      "[6800]\ttraining's rmse: 0.0735236\tvalid_1's rmse: 0.133516\n",
      "[6900]\ttraining's rmse: 0.0731294\tvalid_1's rmse: 0.133433\n",
      "[7000]\ttraining's rmse: 0.0727376\tvalid_1's rmse: 0.133354\n",
      "[7100]\ttraining's rmse: 0.0723431\tvalid_1's rmse: 0.133272\n",
      "[7200]\ttraining's rmse: 0.0719587\tvalid_1's rmse: 0.133195\n",
      "[7300]\ttraining's rmse: 0.0715926\tvalid_1's rmse: 0.133131\n",
      "[7400]\ttraining's rmse: 0.0711761\tvalid_1's rmse: 0.133075\n",
      "[7500]\ttraining's rmse: 0.0707794\tvalid_1's rmse: 0.133018\n",
      "[7600]\ttraining's rmse: 0.0703908\tvalid_1's rmse: 0.13296\n",
      "[7700]\ttraining's rmse: 0.0700117\tvalid_1's rmse: 0.132908\n",
      "[7800]\ttraining's rmse: 0.0696349\tvalid_1's rmse: 0.132858\n",
      "[7900]\ttraining's rmse: 0.0692552\tvalid_1's rmse: 0.1328\n",
      "[8000]\ttraining's rmse: 0.0688862\tvalid_1's rmse: 0.13275\n",
      "[8100]\ttraining's rmse: 0.0685292\tvalid_1's rmse: 0.132714\n",
      "[8200]\ttraining's rmse: 0.0681543\tvalid_1's rmse: 0.132673\n",
      "[8300]\ttraining's rmse: 0.0677964\tvalid_1's rmse: 0.132633\n",
      "[8400]\ttraining's rmse: 0.0674202\tvalid_1's rmse: 0.132592\n",
      "[8500]\ttraining's rmse: 0.0670661\tvalid_1's rmse: 0.132563\n",
      "[8600]\ttraining's rmse: 0.0667094\tvalid_1's rmse: 0.132529\n",
      "[8700]\ttraining's rmse: 0.0663583\tvalid_1's rmse: 0.132496\n",
      "[8800]\ttraining's rmse: 0.06601\tvalid_1's rmse: 0.13246\n",
      "[8900]\ttraining's rmse: 0.0656833\tvalid_1's rmse: 0.13244\n",
      "[9000]\ttraining's rmse: 0.0653598\tvalid_1's rmse: 0.132419\n",
      "[9100]\ttraining's rmse: 0.065044\tvalid_1's rmse: 0.132398\n",
      "[9200]\ttraining's rmse: 0.0647403\tvalid_1's rmse: 0.132368\n",
      "[9300]\ttraining's rmse: 0.0644407\tvalid_1's rmse: 0.132343\n",
      "[9400]\ttraining's rmse: 0.0641496\tvalid_1's rmse: 0.132317\n"
     ]
    }
   ],
   "source": [
    "clf_lgb = lgb.train(params, dtrain,num_boost_round=10000,valid_sets=(dtrain,dval),verbose_eval=100)"
   ]
  },
  {
   "cell_type": "code",
   "execution_count": 92,
   "metadata": {
    "collapsed": true
   },
   "outputs": [],
   "source": [
    "# make prediction on test set.\n",
    "y_pred_lgb = clf_lgb.predict(test_new)"
   ]
  },
  {
   "cell_type": "code",
   "execution_count": 95,
   "metadata": {
    "collapsed": true
   },
   "outputs": [],
   "source": [
    "\n",
    "#submit this prediction and get the score\n",
    "pred1 = pd.DataFrame({'Id': test['Id'], 'SalePrice': np.exp(y_pred_lgb)})\n",
    "pred1.to_csv('lgbnono.csv', header=True, index=False)"
   ]
  },
  {
   "cell_type": "code",
   "execution_count": 97,
   "metadata": {},
   "outputs": [
    {
     "name": "stdout",
     "output_type": "stream",
     "text": [
      "Lasso score on training set:  0.101362090699\n"
     ]
    }
   ],
   "source": [
    "from sklearn.linear_model import Lasso\n",
    "\n",
    "#Found this best alpha through cross-validation.\n",
    "best_alpha = 0.00099\n",
    "\n",
    "regr = Lasso(alpha=best_alpha, max_iter=50000)\n",
    "regr.fit(train_new, label_df)\n",
    "\n",
    "# Run prediction on the training set to get a rough idea of how well it does.\n",
    "y_pred = regr.predict(train_new)\n",
    "y_test = label_df\n",
    "print(\"Lasso score on training set: \", rmse(y_test, y_pred))"
   ]
  },
  {
   "cell_type": "code",
   "execution_count": 99,
   "metadata": {
    "collapsed": true
   },
   "outputs": [],
   "source": [
    "#make prediction on the test set.\n",
    "y_pred_lasso = regr.predict(test_new)\n",
    "lasso_ex = np.exp(y_pred_lasso)\n",
    "pred1 = pd.DataFrame({'Id': test['Id'], 'SalePrice': lasso_ex})\n",
    "pred1.to_csv('lasso_model.csv', header=True, index=False)"
   ]
  },
  {
   "cell_type": "code",
   "execution_count": 101,
   "metadata": {
    "collapsed": true
   },
   "outputs": [],
   "source": [
    "y_pred = (y_pred_xgb + y_pred_lasso) / 2\n",
    "y_pred = np.exp(y_pred)\n",
    "pred_df = pd.DataFrame(y_pred, index=test[\"Id\"], columns=[\"SalePrice\"])\n",
    "pred_df.to_csv('ensemble1.csv', header=True, index_label='Id')"
   ]
  },
  {
   "cell_type": "code",
   "execution_count": null,
   "metadata": {
    "collapsed": true
   },
   "outputs": [],
   "source": []
  }
 ],
 "metadata": {
  "kernelspec": {
   "display_name": "Python 3",
   "language": "python",
   "name": "python3"
  },
  "language_info": {
   "codemirror_mode": {
    "name": "ipython",
    "version": 3
   },
   "file_extension": ".py",
   "mimetype": "text/x-python",
   "name": "python",
   "nbconvert_exporter": "python",
   "pygments_lexer": "ipython3",
   "version": "3.5.2"
  }
 },
 "nbformat": 4,
 "nbformat_minor": 2
}
