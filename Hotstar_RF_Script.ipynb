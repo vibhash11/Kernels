{
 "cells": [
  {
   "cell_type": "markdown",
   "metadata": {},
   "source": [
    "# Indiahacks machine learning challenge\n",
    "### Predict the segment\n",
    "https://www.hackerearth.com/problem/machine-learning/predict-the-segment-hotstar/"
   ]
  },
  {
   "cell_type": "code",
   "execution_count": 1,
   "metadata": {
    "collapsed": true
   },
   "outputs": [],
   "source": [
    "import numpy as np\n",
    "import pickle\n",
    "import pandas as pd\n",
    "import re\n",
    "from xgboost import XGBClassifier as XGB\n",
    "from sklearn.ensemble import RandomForestClassifier as RF\n",
    "from sklearn.ensemble import GradientBoostingClassifier as GB\n",
    "from sklearn.ensemble import ExtraTreesClassifier as ETC\n",
    "from sklearn.preprocessing import PolynomialFeatures as PF\n",
    "from sklearn.model_selection import GridSearchCV\n",
    "from sklearn.neighbors import KNeighborsClassifier as KNN\n",
    "from sklearn.model_selection import train_test_split\n",
    "from sklearn.metrics import roc_auc_score\n",
    "from sklearn.neural_network import MLPClassifier as MLP\n",
    "from sklearn.preprocessing import MinMaxScaler,PolynomialFeatures\n",
    "from sklearn.decomposition import PCA\n",
    "from sklearn.ensemble import VotingClassifier as VC\n",
    "from sklearn.ensemble import AdaBoostClassifier as ADA\n",
    "from sklearn.ensemble import IsolationForest as ISO\n",
    "from sklearn.feature_selection import SelectKBest as SK"
   ]
  },
  {
   "cell_type": "code",
   "execution_count": 2,
   "metadata": {
    "collapsed": true
   },
   "outputs": [],
   "source": [
    "file = open(\"train.pickle\",\"rb\")\n",
    "train_data = pickle.load(file)\n",
    "file.close()\n",
    "file = open(\"test.pickle\",\"rb\")\n",
    "test_data = pickle.load(file)\n",
    "file.close()\n",
    "file = open(\"target.pickle\",\"rb\")\n",
    "target = pickle.load(file)\n",
    "file.close()\n",
    "test_d = pd.read_json('test_data.json',orient='index')\n",
    "test_d.reset_index(inplace = True)\n",
    "test_d.rename(columns={'index':'ID'}, inplace=True)\n",
    "test_id = test_d['ID']\n",
    "test_data = test_data[train_data.columns]"
   ]
  },
  {
   "cell_type": "code",
   "execution_count": null,
   "metadata": {},
   "outputs": [
    {
     "name": "stdout",
     "output_type": "stream",
     "text": [
      "(100000, 37)\n"
     ]
    },
    {
     "name": "stderr",
     "output_type": "stream",
     "text": [
      "C:\\ProgramData\\Anaconda3\\lib\\site-packages\\sklearn\\feature_selection\\univariate_selection.py:113: UserWarning: Features [25] are constant.\n",
      "  UserWarning)\n",
      "C:\\ProgramData\\Anaconda3\\lib\\site-packages\\sklearn\\feature_selection\\univariate_selection.py:114: RuntimeWarning: invalid value encountered in true_divide\n",
      "  f = msb / msw\n",
      "C:\\ProgramData\\Anaconda3\\lib\\site-packages\\sklearn\\feature_selection\\univariate_selection.py:541: RuntimeWarning: invalid value encountered in less\n",
      "  return self.pvalues_ < self.alpha\n"
     ]
    }
   ],
   "source": [
    "X_train, X_test, y_train, y_test = train_test_split(train_data, target,train_size = 0.5,random_state = 0)\n",
    "#train_test_scaled\n",
    "#from sklearn.preprocessing import StandardScaler\n",
    "#scaler = StandardScaler()\n",
    "scaler = MinMaxScaler()\n",
    "X_train_scaled = scaler.fit_transform(X_train)\n",
    "X_test_scaled = scaler.transform(X_test)\n",
    "test_scaled = scaler.transform(test_data)\n",
    "y_train = np.array(y_train)\n",
    "from sklearn.feature_selection import SelectFpr as SK\n",
    "sk = SK(alpha=0.05)\n",
    "X_train_feat = sk.fit_transform(X_train_scaled,y_train)\n",
    "X_test_feat = sk.transform(X_test_scaled)\n",
    "test_feat = sk.transform(test_scaled)\n",
    "print(X_train_feat.shape)"
   ]
  },
  {
   "cell_type": "code",
   "execution_count": null,
   "metadata": {
    "collapsed": true
   },
   "outputs": [],
   "source": [
    "ISO_clf = ISO(n_estimators=500,random_state=0)\n",
    "ISO_clf.fit(X_train,y_train)\n",
    "pred = ISO_clf.decision_function(X_train)"
   ]
  },
  {
   "cell_type": "code",
   "execution_count": null,
   "metadata": {
    "collapsed": true
   },
   "outputs": [],
   "source": [
    "len(pred[pred>0.1])"
   ]
  },
  {
   "cell_type": "code",
   "execution_count": null,
   "metadata": {
    "collapsed": true
   },
   "outputs": [],
   "source": [
    "to_del = []\n",
    "for i,p in enumerate(pred>0.1):\n",
    "    if p==True:\n",
    "        to_del.append(i)\n",
    "for i,p in enumerate(pred<-0.02):\n",
    "    if p==True:\n",
    "        to_del.append(i)\n",
    "X_train = np.array(X_train)\n",
    "X_test = np.array(X_test)\n",
    "test_data = np.array(test_data)\n",
    "X_train = np.delete(X_train,to_del,axis=0)\n",
    "y_train = np.delete(y_train,to_del)\n",
    "print(len(X_train),len(y_train))"
   ]
  },
  {
   "cell_type": "code",
   "execution_count": 28,
   "metadata": {},
   "outputs": [
    {
     "name": "stdout",
     "output_type": "stream",
     "text": [
      "0.824225052527\n",
      "0.801324441485\n"
     ]
    }
   ],
   "source": [
    "XGB_clf = XGB(n_estimators=100,max_depth=5,random_state=0)\n",
    "XGB_clf.fit(X_train_feat,y_train)\n",
    "print(roc_auc_score(y_train,XGB_clf.predict_proba(X_train_feat)[:,1]))\n",
    "print(roc_auc_score(y_test,XGB_clf.predict_proba(X_test_feat)[:,1]))"
   ]
  },
  {
   "cell_type": "code",
   "execution_count": null,
   "metadata": {
    "collapsed": true
   },
   "outputs": [],
   "source": [
    "pos = X_train[y_train==1]\n",
    "neg = X_train[y_train==0]\n",
    "#print(pos['title_sum'],neg['title_sum'])"
   ]
  },
  {
   "cell_type": "code",
   "execution_count": null,
   "metadata": {
    "collapsed": true
   },
   "outputs": [],
   "source": [
    "from xgboost import plot_importance,plot_tree\n",
    "import matplotlib.pyplot as plt\n",
    "plot_importance(XGB_clf)\n",
    "plt.show()"
   ]
  },
  {
   "cell_type": "code",
   "execution_count": null,
   "metadata": {
    "collapsed": true
   },
   "outputs": [],
   "source": [
    "from sklearn.svm import SVC as SV\n",
    "SV_clf = SV(random_state=0)\n",
    "SV_clf.fit(X_train_feat,y_train)\n",
    "print(roc_auc_score(y_test,SV_clf.predict_proba(X_test_feat)[:,1]))"
   ]
  },
  {
   "cell_type": "code",
   "execution_count": 47,
   "metadata": {},
   "outputs": [
    {
     "name": "stdout",
     "output_type": "stream",
     "text": [
      "0.790111893761\n"
     ]
    }
   ],
   "source": [
    "from sklearn.linear_model import LogisticRegression as LR\n",
    "LR_clf = LR(C=100,max_iter=1000,penalty='l2',random_state=0)\n",
    "LR_clf.fit(X_train_feat,y_train)\n",
    "print(roc_auc_score(y_test,LR_clf.predict_proba(X_test_feat)[:,1]))"
   ]
  },
  {
   "cell_type": "code",
   "execution_count": null,
   "metadata": {
    "collapsed": true
   },
   "outputs": [],
   "source": [
    "RF_clf = RF(n_estimators=100,max_depth=12,random_state=0)\n",
    "RF_clf.fit(X_train,y_train)\n",
    "print(roc_auc_score(y_test,RF_clf.predict_proba(X_test)[:,1]))"
   ]
  },
  {
   "cell_type": "code",
   "execution_count": null,
   "metadata": {
    "collapsed": true
   },
   "outputs": [],
   "source": [
    "MLP_clf = MLP(hidden_layer_sizes=[1,100,10],alpha=0.0001,solver='lbfgs',random_state=0)\n",
    "MLP_clf.fit(X_train_scaled,y_train)\n",
    "print(roc_auc_score(y_test,MLP_clf.predict_proba(X_test_scaled)[:,1]))"
   ]
  },
  {
   "cell_type": "code",
   "execution_count": null,
   "metadata": {
    "collapsed": true
   },
   "outputs": [],
   "source": [
    "ADA_clf = ADA(n_estimators=100,random_state=0)\n",
    "ADA_clf.fit(X_train,y_train)\n",
    "print(roc_auc_score(y_test,ADA_clf.predict_proba(X_test)[:,1]))"
   ]
  },
  {
   "cell_type": "code",
   "execution_count": 49,
   "metadata": {
    "collapsed": true
   },
   "outputs": [],
   "source": [
    "XGB_clf = XGB(n_estimators=100,max_depth=5,random_state=0)\n",
    "RF_clf = RF(n_estimators=100,max_depth=5,random_state=0)\n",
    "GB_clf = GB(n_estimators=100,max_depth=5,random_state=0)\n",
    "LR_clf = LR(C=100,max_iter=1000,penalty='l2',random_state=0)\n",
    "#MLP_clf = MLP(hidden_layer_sizes=[100,10,10],solver='adam',random_state=0)\n",
    "ADA_clf = ADA(n_estimators=100,random_state=0)\n",
    "ETC_clf = ETC(n_estimators=100,max_depth=5,random_state=0)"
   ]
  },
  {
   "cell_type": "code",
   "execution_count": 50,
   "metadata": {},
   "outputs": [
    {
     "name": "stdout",
     "output_type": "stream",
     "text": [
      "0.799168689746\n",
      "0.815599918456\n"
     ]
    }
   ],
   "source": [
    "#vc_clf = VC(estimators=[('RF',RF_clf),('XGB',XGB_clf),('GB',GB_clf),('ADA',ADA_clf),('ETC',ETC_clf)],\n",
    " #          voting='soft', weights=[1,2,1,1,1])\n",
    "vc_clf = VC(estimators=[('RF',RF_clf),('XGB',XGB_clf),('ADA',ADA_clf),('GB',GB_clf),('ETC',ETC_clf)],\n",
    "           voting='soft', weights=[1,1,1,1,1])\n",
    "vc_clf.fit(X_train_feat,y_train)\n",
    "print(roc_auc_score(y_test,vc_clf.predict_proba(X_test_feat)[:,1]))\n",
    "print(roc_auc_score(y_train,vc_clf.predict_proba(X_train_feat)[:,1]))"
   ]
  },
  {
   "cell_type": "code",
   "execution_count": null,
   "metadata": {
    "collapsed": true
   },
   "outputs": [],
   "source": []
  },
  {
   "cell_type": "code",
   "execution_count": 33,
   "metadata": {
    "collapsed": true
   },
   "outputs": [],
   "source": [
    "pred = vc_clf.predict_proba(test_feat)"
   ]
  },
  {
   "cell_type": "code",
   "execution_count": 34,
   "metadata": {
    "collapsed": true
   },
   "outputs": [],
   "source": [
    "#make submission file and submit\n",
    "columns = ['segment']\n",
    "sub = pd.DataFrame(data=pred[:,1], columns=columns)\n",
    "sub['ID'] = test_id\n",
    "sub = sub[['ID','segment']]\n",
    "sub.to_csv(\"sub_hot.csv\", index=False,float_format='%0.7f')"
   ]
  },
  {
   "cell_type": "code",
   "execution_count": null,
   "metadata": {
    "collapsed": true
   },
   "outputs": [],
   "source": []
  }
 ],
 "metadata": {
  "kernelspec": {
   "display_name": "Python 3",
   "language": "python",
   "name": "python3"
  },
  "language_info": {
   "codemirror_mode": {
    "name": "ipython",
    "version": 3
   },
   "file_extension": ".py",
   "mimetype": "text/x-python",
   "name": "python",
   "nbconvert_exporter": "python",
   "pygments_lexer": "ipython3",
   "version": "3.5.2"
  }
 },
 "nbformat": 4,
 "nbformat_minor": 2
}
