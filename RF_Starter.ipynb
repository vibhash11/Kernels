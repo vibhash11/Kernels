{
 "cells": [
  {
   "cell_type": "markdown",
   "metadata": {},
   "source": [
    "# IndiaHacks Machine Learning Challenge\n",
    "### Predict the road sign \n",
    "https://www.hackerearth.com/problem/machine-learning/predict-the-road-sign-1/"
   ]
  },
  {
   "cell_type": "code",
   "execution_count": 1,
   "metadata": {
    "collapsed": true
   },
   "outputs": [],
   "source": [
    "import pandas as pd\n",
    "import numpy as np\n",
    "from sklearn.ensemble import RandomForestClassifier as RF\n",
    "from sklearn.neural_network import MLPClassifier as MLP\n",
    "from sklearn.model_selection import GridSearchCV as GD\n",
    "from sklearn.preprocessing import PolynomialFeatures as PF\n",
    "from sklearn.preprocessing import MinMaxScaler\n",
    "from sklearn.neighbors import KNeighborsClassifier as KNN\n",
    "from sklearn.model_selection import train_test_split\n",
    "from sklearn.linear_model import LogisticRegression as LR\n",
    "from sklearn.ensemble import GradientBoostingClassifier as GB\n",
    "from sklearn.ensemble import ExtraTreesClassifier as ETC\n",
    "from sklearn.ensemble import VotingClassifier as VC\n",
    "from xgboost import XGBClassifier as XGB\n",
    "from sklearn.metrics import log_loss"
   ]
  },
  {
   "cell_type": "code",
   "execution_count": 2,
   "metadata": {
    "collapsed": true
   },
   "outputs": [],
   "source": [
    "train = pd.read_csv(\"train.csv\")\n",
    "test = pd.read_csv(\"test.csv\")\n",
    "#encode as integer\n",
    "mapping = {'Front':0, 'Right':1, 'Left':2, 'Rear':3}\n",
    "train = train.replace({'DetectedCamera':mapping})\n",
    "test = test.replace({'DetectedCamera':mapping})\n",
    "#renaming column\n",
    "train.rename(columns = {'SignFacing (Target)': 'Target'}, inplace=True)\n",
    "#encode Target Variable based on sample submission file\n",
    "mapping = {'Front':0, 'Left':1, 'Rear':2, 'Right':3}\n",
    "train = train.replace({'Target':mapping})\n",
    "#target variable\n",
    "labels = train['Target']\n",
    "test_id = test['Id']\n",
    "#drop columns\n",
    "train.drop(['Target','Id'], inplace=True, axis=1)\n",
    "test.drop('Id',inplace=True,axis=1)"
   ]
  },
  {
   "cell_type": "code",
   "execution_count": 3,
   "metadata": {
    "collapsed": true
   },
   "outputs": [],
   "source": [
    "#train_test_split\n",
    "X_train,X_test,y_train,y_test = train_test_split(train,labels,train_size=0.8,random_state=0) \n",
    "y_train = np.array(y_train)\n",
    "#train_test_poly\n",
    "poly = PF(interaction_only=True,degree=2)\n",
    "X_train_poly = poly.fit_transform(X_train)\n",
    "X_test_poly= poly.transform(X_test)\n",
    "test_poly = poly.transform(test)\n",
    "\n",
    "#train_test_scaled\n",
    "scaler = MinMaxScaler()\n",
    "X_train_scaled = scaler.fit_transform(X_train)\n",
    "X_test_scaled = scaler.transform(X_test)\n",
    "test_scaled = scaler.transform(test)\n",
    "\n",
    "#train_test_poly_scaled\n",
    "scaler = MinMaxScaler()\n",
    "X_train_poly_scaled = scaler.fit_transform(X_train_poly)\n",
    "X_test_poly_scaled = scaler.transform(X_test_poly)\n",
    "test_poly_scaled = scaler.transform(test_poly)"
   ]
  },
  {
   "cell_type": "code",
   "execution_count": 4,
   "metadata": {
    "collapsed": true
   },
   "outputs": [],
   "source": [
    "RF_clf = RF(n_estimators=1000,max_depth=10,oob_score=True,random_state=0)\n",
    "XGB_clf = XGB(n_estimators=100,max_depth=5,random_state=0)\n",
    "LR_clf = LR(penalty='l2',random_state=0)\n",
    "KNN_clf = KNN(n_neighbors=350)\n",
    "GB_clf = GB(learning_rate=0.1,n_estimators=100,random_state=0)\n",
    "MLP_clf = MLP(hidden_layer_sizes=[1000,500,100,10],solver='adam',random_state=0)\n",
    "ETC_clf = ETC(n_estimators=100,max_depth=15,random_state=0)"
   ]
  },
  {
   "cell_type": "code",
   "execution_count": 5,
   "metadata": {},
   "outputs": [
    {
     "name": "stdout",
     "output_type": "stream",
     "text": [
      "99.8891527039\n"
     ]
    }
   ],
   "source": [
    "#vc_clf = VC(estimators=[('RF',RF_clf),('XGB',XGB_clf),('GB',GB_clf),('MLP',MLP_clf),('ETC',ETC_clf),('LR',LR_clf)],\n",
    "#           voting='soft', weights=[1,1,1,1,1,0.5])\n",
    "vc_clf = VC(estimators=[('RF',RF_clf),('XGB',XGB_clf),('GB',GB_clf),('MLP',MLP_clf),('ETC',ETC_clf),('KNN',KNN_clf)],\n",
    "           voting='soft', weights=[1,1,1,1,1,1])\n",
    "vc_clf.fit(X_train_poly_scaled,y_train)\n",
    "print(100-log_loss(y_test,vc_clf.predict_proba(X_test_poly_scaled)))"
   ]
  },
  {
   "cell_type": "code",
   "execution_count": 7,
   "metadata": {
    "collapsed": true
   },
   "outputs": [],
   "source": [
    "pred = vc_clf.predict_proba(X_train_poly_scaled)\n",
    "diff = []\n",
    "for i,y in enumerate(y_train):\n",
    "    diff.append(1-pred[i,y])\n",
    "diff = np.array(diff)"
   ]
  },
  {
   "cell_type": "code",
   "execution_count": 8,
   "metadata": {
    "collapsed": true
   },
   "outputs": [],
   "source": [
    "to_del = []\n",
    "for i,p in enumerate(diff>0.9):\n",
    "    if p==True:\n",
    "        to_del.append(i)\n",
    "X_train_poly_scaled = np.delete(X_train_poly_scaled,to_del,axis=0)\n",
    "y_train = np.delete(y_train,to_del,axis=0)"
   ]
  },
  {
   "cell_type": "code",
   "execution_count": 9,
   "metadata": {},
   "outputs": [
    {
     "name": "stdout",
     "output_type": "stream",
     "text": [
      "99.8889100295\n"
     ]
    }
   ],
   "source": [
    "RF_clf = RF(n_estimators=1000,max_depth=10,oob_score=True,random_state=0)\n",
    "XGB_clf = XGB(n_estimators=100,max_depth=5,random_state=0)\n",
    "KNN_clf = KNN(n_neighbors=350)\n",
    "GB_clf = GB(learning_rate=0.1,n_estimators=100,random_state=0)\n",
    "MLP_clf = MLP(hidden_layer_sizes=[1000,500,100,10],solver='adam',random_state=0)\n",
    "ETC_clf = ETC(n_estimators=100,max_depth=15,random_state=0)\n",
    "vc_clf = VC(estimators=[('RF',RF_clf),('XGB',XGB_clf),('GB',GB_clf),('MLP',MLP_clf),('ETC',ETC_clf),('KNN',KNN_clf)],\n",
    "           voting='soft', weights=[1,1,1,1,1,1])\n",
    "vc_clf.fit(X_train_poly_scaled,y_train)\n",
    "print(100-log_loss(y_test,vc_clf.predict_proba(X_test_poly_scaled)))"
   ]
  },
  {
   "cell_type": "code",
   "execution_count": 10,
   "metadata": {
    "collapsed": true
   },
   "outputs": [],
   "source": [
    "#predict on test data\n",
    "pred = vc_clf.predict_proba(test_poly_scaled)"
   ]
  },
  {
   "cell_type": "code",
   "execution_count": 11,
   "metadata": {
    "collapsed": true
   },
   "outputs": [],
   "source": [
    "#write submission file and submit\n",
    "columns = ['Front','Left','Rear','Right']\n",
    "sub = pd.DataFrame(data=pred, columns=columns)\n",
    "sub['Id'] = test_id\n",
    "sub = sub[['Id','Front','Left','Rear','Right']]\n",
    "#sub.to_csv(\"result_2.csv\", index=False,float_format='%0.8f') #99.90006\n",
    "sub.to_csv(\"result_3.csv\", index=False,float_format='%0.8f') #99.89996"
   ]
  },
  {
   "cell_type": "code",
   "execution_count": null,
   "metadata": {
    "collapsed": true
   },
   "outputs": [],
   "source": []
  }
 ],
 "metadata": {
  "kernelspec": {
   "display_name": "Python 3",
   "language": "python",
   "name": "python3"
  },
  "language_info": {
   "codemirror_mode": {
    "name": "ipython",
    "version": 3
   },
   "file_extension": ".py",
   "mimetype": "text/x-python",
   "name": "python",
   "nbconvert_exporter": "python",
   "pygments_lexer": "ipython3",
   "version": "3.5.2"
  }
 },
 "nbformat": 4,
 "nbformat_minor": 2
}
